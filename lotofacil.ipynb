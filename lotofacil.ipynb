{
 "cells": [
  {
   "cell_type": "markdown",
   "metadata": {},
   "source": [
    "# Download de Dados Atualizados\n"
   ]
  },
  {
   "cell_type": "markdown",
   "metadata": {},
   "source": [
    "### Download da Planilha com todos os resultados da LOTOFÁCIL (do site asloterias.com.br)"
   ]
  },
  {
   "# Intalar webdriver, selenium e openpyxl
   " Executar como usuario normal:
   " pip install webdriver, selenium e openpyxl
   "cell_type": "code",
   "execution_count": 3,
   "metadata": {},
   "outputs": [],
   "source": [
    "from selenium import webdriver # controla o navegador\n",
    "from selenium.webdriver.common.keys import Keys # controla o teclado\n",
    "from selenium.webdriver.common.by import By # localizar os itens no navegador\n",
    "import time\n",
    "\n",
    "# Criar o navegador\n",
    "driver = webdriver.Chrome()\n",
    "\n",
    "# Entrar no site que disponibiliza os resultados\n",
    "driver.get(\"https://asloterias.com.br/download-todos-resultados-lotofacil\") \n",
    "\n",
    "# Fazer download do arquivo \n",
    "driver.find_element(by=By.XPATH, value=\"/html/body/main/div[2]/div/div/div[1]/div[5]/a\").click()\n",
    "\n",
    "time.sleep(7)\n",
    "\n",
    "# Fecha navegador\n",
    "driver.quit()"
   ]
  },
  {
   "attachments": {},
   "cell_type": "markdown",
   "metadata": {},
   "source": [
    "### Localizando na pasta 'Downloads' a Planilha baixada e movendo para pasta atual"
   ]
  },
  {
   "cell_type": "code",
   "execution_count": 4,
   "metadata": {},
   "outputs": [
    {
     "data": {
      "text/plain": [
       "WindowsPath('lotofacil.xlsx')"
      ]
     },
     "execution_count": 4,
     "metadata": {},
     "output_type": "execute_result"
    }
   ],
   "source": [
    "from pathlib import Path\n",
    "import os \n",
    "\n",
    "\n",
    "# Caminho Downloads para Windows
    "# directory = Path('C:/Users/luiza/Downloads')\n",
     #Pasta Downloads na versão para Linux
    "directory = Path('/home/italo/Downloads')\n"',
    "files = directory.glob('*.xlsx')\n",
    "sorted_files = sorted(files, key=os.path.getmtime, reverse=True)\n",
    "\n",
    "last_file = sorted_files[0]\n",
    "\n",
    "# Verificar se já existe arquivo com o nome lotofacil.xlsx na pasta atual\n",
    "#if Path('c:\\luizalaquini\\Projetos\\LOTOFÁCIL 2.0\\lotofacil.xlsx').is_file():\n", /documentos/lotofacil2/LOTOFACIL-2.0 
    "if Path(' home/italo/documentos/lotofacil2/LOTOFACIL-2.0/lotofacil.xlsx').is_file():\n",
    "   # Se existir, apagar o arquivo\n",
    "   # Caminho Path para linux
    "    os.remove('/home/italo/documentos/lotofacil2/LOTOFACIL-2.0/lotofacil.xlsx')\n",
    "  # Caminho Path para Windows
    "  # os.remove('C:\\luizalaquini\\Projetos\\LOTOFÁCIL 2.0\\lotofacil.xlsx')\n", 
    "\n",
    "# Renomear o arquivo baixado para \"lotofacil.xlsx\" e movendo para pasta atual\n",
    "last_file.rename('lotofacil.xlsx')\n"
   ]
  },
  {
   "cell_type": "markdown",
   "metadata": {},
   "source": [
    "# Tratamento de Dados"
   ]
  },
  {
   "cell_type": "code",
   "execution_count": 5,
   "metadata": {},
   "outputs": [
    {
     "data": {
      "text/html": [
       "<div>\n",
       "<style scoped>\n",
       "    .dataframe tbody tr th:only-of-type {\n",
       "        vertical-align: middle;\n",
       "    }\n",
       "\n",
       "    .dataframe tbody tr th {\n",
       "        vertical-align: top;\n",
       "    }\n",
       "\n",
       "    .dataframe thead th {\n",
       "        text-align: right;\n",
       "    }\n",
       "</style>\n",
       "<table border=\"1\" class=\"dataframe\">\n",
       "  <thead>\n",
       "    <tr style=\"text-align: right;\">\n",
       "      <th></th>\n",
       "      <th>Concurso</th>\n",
       "      <th>Data Sorteio</th>\n",
       "      <th>Bola 01</th>\n",
       "      <th>Bola 02</th>\n",
       "      <th>Bola 03</th>\n",
       "      <th>Bola 04</th>\n",
       "      <th>Bola 05</th>\n",
       "      <th>Bola 06</th>\n",
       "      <th>Bola 07</th>\n",
       "      <th>Bola 08</th>\n",
       "      <th>Bola 09</th>\n",
       "      <th>Bola 10</th>\n",
       "      <th>Bola 11</th>\n",
       "      <th>Bola 12</th>\n",
       "      <th>Bola 13</th>\n",
       "      <th>Bola 14</th>\n",
       "      <th>Bola 15</th>\n",
       "    </tr>\n",
       "  </thead>\n",
       "  <tbody>\n",
       "    <tr>\n",
       "      <th>6</th>\n",
       "      <td>2683</td>\n",
       "      <td>08/12/2022</td>\n",
       "      <td>8</td>\n",
       "      <td>25</td>\n",
       "      <td>10</td>\n",
       "      <td>14</td>\n",
       "      <td>2</td>\n",
       "      <td>11</td>\n",
       "      <td>13</td>\n",
       "      <td>21</td>\n",
       "      <td>22</td>\n",
       "      <td>12</td>\n",
       "      <td>3</td>\n",
       "      <td>20</td>\n",
       "      <td>23</td>\n",
       "      <td>4</td>\n",
       "      <td>1</td>\n",
       "    </tr>\n",
       "    <tr>\n",
       "      <th>7</th>\n",
       "      <td>2682</td>\n",
       "      <td>07/12/2022</td>\n",
       "      <td>4</td>\n",
       "      <td>23</td>\n",
       "      <td>7</td>\n",
       "      <td>16</td>\n",
       "      <td>9</td>\n",
       "      <td>14</td>\n",
       "      <td>19</td>\n",
       "      <td>11</td>\n",
       "      <td>24</td>\n",
       "      <td>12</td>\n",
       "      <td>6</td>\n",
       "      <td>3</td>\n",
       "      <td>8</td>\n",
       "      <td>15</td>\n",
       "      <td>10</td>\n",
       "    </tr>\n",
       "    <tr>\n",
       "      <th>8</th>\n",
       "      <td>2681</td>\n",
       "      <td>06/12/2022</td>\n",
       "      <td>24</td>\n",
       "      <td>18</td>\n",
       "      <td>7</td>\n",
       "      <td>4</td>\n",
       "      <td>14</td>\n",
       "      <td>2</td>\n",
       "      <td>13</td>\n",
       "      <td>19</td>\n",
       "      <td>21</td>\n",
       "      <td>16</td>\n",
       "      <td>22</td>\n",
       "      <td>10</td>\n",
       "      <td>17</td>\n",
       "      <td>12</td>\n",
       "      <td>8</td>\n",
       "    </tr>\n",
       "    <tr>\n",
       "      <th>9</th>\n",
       "      <td>2680</td>\n",
       "      <td>05/12/2022</td>\n",
       "      <td>20</td>\n",
       "      <td>15</td>\n",
       "      <td>4</td>\n",
       "      <td>16</td>\n",
       "      <td>11</td>\n",
       "      <td>17</td>\n",
       "      <td>5</td>\n",
       "      <td>2</td>\n",
       "      <td>23</td>\n",
       "      <td>24</td>\n",
       "      <td>13</td>\n",
       "      <td>10</td>\n",
       "      <td>19</td>\n",
       "      <td>9</td>\n",
       "      <td>1</td>\n",
       "    </tr>\n",
       "    <tr>\n",
       "      <th>10</th>\n",
       "      <td>2679</td>\n",
       "      <td>03/12/2022</td>\n",
       "      <td>25</td>\n",
       "      <td>9</td>\n",
       "      <td>8</td>\n",
       "      <td>20</td>\n",
       "      <td>16</td>\n",
       "      <td>7</td>\n",
       "      <td>13</td>\n",
       "      <td>19</td>\n",
       "      <td>24</td>\n",
       "      <td>4</td>\n",
       "      <td>12</td>\n",
       "      <td>10</td>\n",
       "      <td>22</td>\n",
       "      <td>6</td>\n",
       "      <td>5</td>\n",
       "    </tr>\n",
       "    <tr>\n",
       "      <th>...</th>\n",
       "      <td>...</td>\n",
       "      <td>...</td>\n",
       "      <td>...</td>\n",
       "      <td>...</td>\n",
       "      <td>...</td>\n",
       "      <td>...</td>\n",
       "      <td>...</td>\n",
       "      <td>...</td>\n",
       "      <td>...</td>\n",
       "      <td>...</td>\n",
       "      <td>...</td>\n",
       "      <td>...</td>\n",
       "      <td>...</td>\n",
       "      <td>...</td>\n",
       "      <td>...</td>\n",
       "      <td>...</td>\n",
       "      <td>...</td>\n",
       "    </tr>\n",
       "    <tr>\n",
       "      <th>2684</th>\n",
       "      <td>5</td>\n",
       "      <td>27/10/2003</td>\n",
       "      <td>15</td>\n",
       "      <td>13</td>\n",
       "      <td>20</td>\n",
       "      <td>2</td>\n",
       "      <td>11</td>\n",
       "      <td>24</td>\n",
       "      <td>9</td>\n",
       "      <td>16</td>\n",
       "      <td>4</td>\n",
       "      <td>23</td>\n",
       "      <td>25</td>\n",
       "      <td>12</td>\n",
       "      <td>8</td>\n",
       "      <td>19</td>\n",
       "      <td>1</td>\n",
       "    </tr>\n",
       "    <tr>\n",
       "      <th>2685</th>\n",
       "      <td>4</td>\n",
       "      <td>20/10/2003</td>\n",
       "      <td>16</td>\n",
       "      <td>5</td>\n",
       "      <td>25</td>\n",
       "      <td>24</td>\n",
       "      <td>23</td>\n",
       "      <td>8</td>\n",
       "      <td>12</td>\n",
       "      <td>2</td>\n",
       "      <td>17</td>\n",
       "      <td>18</td>\n",
       "      <td>1</td>\n",
       "      <td>10</td>\n",
       "      <td>4</td>\n",
       "      <td>19</td>\n",
       "      <td>13</td>\n",
       "    </tr>\n",
       "    <tr>\n",
       "      <th>2686</th>\n",
       "      <td>3</td>\n",
       "      <td>13/10/2003</td>\n",
       "      <td>20</td>\n",
       "      <td>23</td>\n",
       "      <td>12</td>\n",
       "      <td>8</td>\n",
       "      <td>6</td>\n",
       "      <td>1</td>\n",
       "      <td>7</td>\n",
       "      <td>11</td>\n",
       "      <td>14</td>\n",
       "      <td>4</td>\n",
       "      <td>16</td>\n",
       "      <td>10</td>\n",
       "      <td>9</td>\n",
       "      <td>17</td>\n",
       "      <td>24</td>\n",
       "    </tr>\n",
       "    <tr>\n",
       "      <th>2687</th>\n",
       "      <td>2</td>\n",
       "      <td>06/10/2003</td>\n",
       "      <td>23</td>\n",
       "      <td>15</td>\n",
       "      <td>5</td>\n",
       "      <td>4</td>\n",
       "      <td>12</td>\n",
       "      <td>16</td>\n",
       "      <td>20</td>\n",
       "      <td>6</td>\n",
       "      <td>11</td>\n",
       "      <td>19</td>\n",
       "      <td>24</td>\n",
       "      <td>1</td>\n",
       "      <td>9</td>\n",
       "      <td>13</td>\n",
       "      <td>7</td>\n",
       "    </tr>\n",
       "    <tr>\n",
       "      <th>2688</th>\n",
       "      <td>1</td>\n",
       "      <td>29/09/2003</td>\n",
       "      <td>18</td>\n",
       "      <td>20</td>\n",
       "      <td>25</td>\n",
       "      <td>23</td>\n",
       "      <td>10</td>\n",
       "      <td>11</td>\n",
       "      <td>24</td>\n",
       "      <td>14</td>\n",
       "      <td>6</td>\n",
       "      <td>2</td>\n",
       "      <td>13</td>\n",
       "      <td>9</td>\n",
       "      <td>5</td>\n",
       "      <td>16</td>\n",
       "      <td>3</td>\n",
       "    </tr>\n",
       "  </tbody>\n",
       "</table>\n",
       "<p>2683 rows × 17 columns</p>\n",
       "</div>"
      ],
      "text/plain": [
       "     Concurso Data Sorteio Bola 01 Bola 02 Bola 03 Bola 04 Bola 05 Bola 06  \\\n",
       "6        2683   08/12/2022       8      25      10      14       2      11   \n",
       "7        2682   07/12/2022       4      23       7      16       9      14   \n",
       "8        2681   06/12/2022      24      18       7       4      14       2   \n",
       "9        2680   05/12/2022      20      15       4      16      11      17   \n",
       "10       2679   03/12/2022      25       9       8      20      16       7   \n",
       "...       ...          ...     ...     ...     ...     ...     ...     ...   \n",
       "2684        5   27/10/2003      15      13      20       2      11      24   \n",
       "2685        4   20/10/2003      16       5      25      24      23       8   \n",
       "2686        3   13/10/2003      20      23      12       8       6       1   \n",
       "2687        2   06/10/2003      23      15       5       4      12      16   \n",
       "2688        1   29/09/2003      18      20      25      23      10      11   \n",
       "\n",
       "     Bola 07 Bola 08 Bola 09 Bola 10 Bola 11 Bola 12 Bola 13 Bola 14 Bola 15  \n",
       "6         13      21      22      12       3      20      23       4       1  \n",
       "7         19      11      24      12       6       3       8      15      10  \n",
       "8         13      19      21      16      22      10      17      12       8  \n",
       "9          5       2      23      24      13      10      19       9       1  \n",
       "10        13      19      24       4      12      10      22       6       5  \n",
       "...      ...     ...     ...     ...     ...     ...     ...     ...     ...  \n",
       "2684       9      16       4      23      25      12       8      19       1  \n",
       "2685      12       2      17      18       1      10       4      19      13  \n",
       "2686       7      11      14       4      16      10       9      17      24  \n",
       "2687      20       6      11      19      24       1       9      13       7  \n",
       "2688      24      14       6       2      13       9       5      16       3  \n",
       "\n",
       "[2683 rows x 17 columns]"
      ]
     },
     "metadata": {},
     "output_type": "display_data"
    }
   ],
   "source": [
    "import pandas as pd\n",
    "\n",
    "df = pd.read_excel('lotofacil.xlsx')\n",
    "\n",
    "# Apagando Linhas Desnecessárias\n",
    "df = df.drop([0,1,2,3,4,5])\n",
    "\n",
    "# Renomeando Colunas\n",
    "df.columns = ['Concurso', 'Data Sorteio', 'Bola 01', 'Bola 02', 'Bola 03', 'Bola 04', 'Bola 05', 'Bola 06', 'Bola 07', 'Bola 08', 'Bola 09', 'Bola 10', 'Bola 11', 'Bola 12', 'Bola 13', 'Bola 14', 'Bola 15']\n",
    "\n",
    "display(df)"
   ]
  },
  {
   "cell_type": "markdown",
   "metadata": {},
   "source": [
    "# Análise"
   ]
  },
  {
   "cell_type": "markdown",
   "metadata": {},
   "source": [
    "### Números 'sortudos' x 'azarados'"
   ]
  },
  {
   "cell_type": "code",
   "execution_count": 6,
   "metadata": {},
   "outputs": [
    {
     "data": {
      "text/plain": [
       "10    1672\n",
       "20    1672\n",
       "11    1660\n",
       "25    1652\n",
       "13    1645\n",
       "24    1639\n",
       "14    1636\n",
       "5     1632\n",
       "3     1627\n",
       "4     1613\n",
       "12    1609\n",
       "9     1606\n",
       "19    1605\n",
       "22    1604\n",
       "18    1602\n",
       "1     1597\n",
       "2     1596\n",
       "15    1595\n",
       "17    1592\n",
       "21    1589\n",
       "23    1576\n",
       "7     1569\n",
       "6     1560\n",
       "16    1554\n",
       "8     1543\n",
       "dtype: int64"
      ]
     },
     "metadata": {},
     "output_type": "display_data"
    }
   ],
   "source": [
    "balls_frequency = df['Bola 01'].value_counts() + df['Bola 02'].value_counts() + df['Bola 03'].value_counts() + df['Bola 04'].value_counts() + df['Bola 05'].value_counts() + df['Bola 06'].value_counts() + df['Bola 07'].value_counts() + df['Bola 08'].value_counts() + df['Bola 09'].value_counts() + df['Bola 10'].value_counts() + df['Bola 11'].value_counts() + df['Bola 12'].value_counts() + df['Bola 13'].value_counts() + df['Bola 14'].value_counts() + df['Bola 15'].value_counts()\n",
    "balls_frequency = balls_frequency.sort_values(ascending=False)\n",
    "display(balls_frequency)"
   ]
  },
  {
   "cell_type": "markdown",
   "metadata": {},
   "source": [
    "### Números primos"
   ]
  },
  {
   "cell_type": "code",
   "execution_count": 7,
   "metadata": {},
   "outputs": [],
   "source": [
    "def is_prime(n:int) -> bool:\n",
    "    '''\n",
    "    Returns True if n is prime, False otherwise.\n",
    "    '''\n",
    "    if n == 1:\n",
    "        return False\n",
    "    elif n == 2:\n",
    "        return True\n",
    "    else:\n",
    "        for x in range(2,n):\n",
    "            if n % x == 0:\n",
    "                return False\n",
    "        return True\n",
    "\n",
    "def prime_counter(game:list) -> int:\n",
    "    '''\n",
    "    Returns the number of prime numbers in the game.\n",
    "    '''\n",
    "    prime_count = 0\n",
    "    for ball in game:\n",
    "        if is_prime(ball):\n",
    "            prime_count += 1\n",
    "    return prime_count"
   ]
  },
  {
   "cell_type": "code",
   "execution_count": 8,
   "metadata": {},
   "outputs": [
    {
     "name": "stdout",
     "output_type": "stream",
     "text": [
      "Quantidade de primos por concurso: \n",
      "Média: 5.41 \n",
      "Moda: 5 \n",
      "Desvio Padrão: 1.20 \n",
      "Máximo: 9 \n",
      "Mínimo: 1\n"
     ]
    }
   ],
   "source": [
    "import statistics as st\n",
    "\n",
    "# Criando array com quantidade de primos por concurso \n",
    "prime_numbers = []\n",
    "for i in range(1, len(df)+1):\n",
    "    game = df.iloc[i-1, 2:17] # 2:17 para indicar as colunas das bolas\n",
    "    prime_numbers.append(prime_counter(game)) \n",
    "\n",
    "# Estatísticas\n",
    "print(\"Quantidade de primos por concurso: \\nMédia: {:.2f} \\nModa: {} \\nDesvio Padrão: {:.2f} \\nMáximo: {} \\nMínimo: {}\" .format(st.mean(prime_numbers), st.mode(prime_numbers), st.stdev(prime_numbers), max(prime_numbers), min(prime_numbers)))\n"
   ]
  },
  {
   "cell_type": "markdown",
   "metadata": {},
   "source": [
    "### Números pares e ímpares"
   ]
  },
  {
   "cell_type": "code",
   "execution_count": 9,
   "metadata": {},
   "outputs": [],
   "source": [
    "def is_even(n:int) -> bool:\n",
    "    '''\n",
    "    Returns True if n is even, False otherwise\n",
    "    '''\n",
    "    if n % 2 == 0:\n",
    "        return True\n",
    "    else:\n",
    "        return False\n",
    "\n",
    "def even_counter(game:list) -> int:\n",
    "    '''\n",
    "    Returns the number of even numbers in the game.\n",
    "    '''\n",
    "    even_count = 0\n",
    "    for ball in game:\n",
    "        if is_even(ball):\n",
    "            even_count += 1\n",
    "    return even_count"
   ]
  },
  {
   "cell_type": "code",
   "execution_count": 10,
   "metadata": {},
   "outputs": [
    {
     "name": "stdout",
     "output_type": "stream",
     "text": [
      "Quantidade de números pares por concurso: \n",
      "Média: 7.19 \n",
      "Moda: 7 \n",
      "Desvio Padrão: 1.26 \n",
      "Máximo: 11 \n",
      "Mínimo: 3\n"
     ]
    }
   ],
   "source": [
    "# Criando array com quantidade de pares por concurso\n",
    "even_numbers = []\n",
    "for i in range(1, len(df)+1):\n",
    "    game = df.iloc[i-1, 2:17] # 2:17 para indicar as colunas das bolas\n",
    "    even_numbers.append(even_counter(game)) \n",
    "\n",
    "# Estatísticas\n",
    "print(\"Quantidade de números pares por concurso: \\nMédia: {:.2f} \\nModa: {} \\nDesvio Padrão: {:.2f} \\nMáximo: {} \\nMínimo: {}\" .format(st.mean(even_numbers), st.mode(even_numbers), st.stdev(even_numbers), max(even_numbers), min(even_numbers)))"
   ]
  },
  {
   "cell_type": "markdown",
   "metadata": {},
   "source": [
    "### Números consecutivos"
   ]
  },
  {
   "cell_type": "code",
   "execution_count": 11,
   "metadata": {},
   "outputs": [],
   "source": [
    "def is_consecutive(a:int, b:int) -> bool:\n",
    "    '''\n",
    "    Returns True if a and b are consecutive, False otherwise\n",
    "    '''\n",
    "    if abs(a-b) == 1 or abs(a-b) == -1:\n",
    "        return True\n",
    "    else:\n",
    "        return False\n",
    "\n",
    "def consecutive_counter (game:list) -> int:\n",
    "    '''\n",
    "    Returns the number of consecutive numbers in a game\n",
    "    '''\n",
    "    counter = 1\n",
    "    consecutive_count = 1\n",
    "    for i in range(1, len(game)):\n",
    "        if is_consecutive(game[i-1], game[i]):\n",
    "            counter += 1\n",
    "            if (i==14):\n",
    "                if(counter > consecutive_count):\n",
    "                    consecutive_count = counter\n",
    "        else:\n",
    "            if(counter > consecutive_count):\n",
    "                consecutive_count = counter\n",
    "            counter = 1\n",
    "    return consecutive_count"
   ]
  },
  {
   "cell_type": "code",
   "execution_count": 12,
   "metadata": {},
   "outputs": [
    {
     "name": "stdout",
     "output_type": "stream",
     "text": [
      "Maior sequência de números consecutivos por concurso: \n",
      "Média: 4.94 \n",
      "Moda: 4 \n",
      "Desvio Padrão: 1.46 \n",
      "Máximo: 14 \n",
      "Mínimo: 2\n"
     ]
    }
   ],
   "source": [
    "# Criando outro dataframe com as bolas ordenadas em ordem crescente por concurso\n",
    "df_sorted = df.copy()\n",
    "for i in range(1, len(df)+1):\n",
    "    df_sorted.iloc[i-1, 2:] = sorted(df.iloc[i-1, 2:])\n",
    "df_sorted.drop(columns=['Concurso', 'Data Sorteio'], inplace=True)\n",
    "\n",
    "# Criando array com maior quantidade de números formando a maior sequencia consecutiva crescente por concurso\n",
    "consecutive_numbers = []\n",
    "for i in range(1, len(df)+1):\n",
    "    game = df_sorted.iloc[i-1, :].to_list()\n",
    "    consecutive_numbers.append(consecutive_counter(game))\n",
    "\n",
    "# Estatísticas\n",
    "print(\"Maior sequência de números consecutivos por concurso: \\nMédia: {:.2f} \\nModa: {} \\nDesvio Padrão: {:.2f} \\nMáximo: {} \\nMínimo: {}\" .format(st.mean(consecutive_numbers), st.mode(consecutive_numbers), st.stdev(consecutive_numbers), max(consecutive_numbers), min(consecutive_numbers)))"
   ]
  },
  {
   "cell_type": "markdown",
   "metadata": {},
   "source": [
    "### Números repetidos (em relação ao sorteio anterior)"
   ]
  },
  {
   "cell_type": "code",
   "execution_count": 13,
   "metadata": {},
   "outputs": [],
   "source": [
    "def is_equal(a:int, b:int) -> bool:\n",
    "    '''\n",
    "    Returns True if a and b are equal, False otherwise\n",
    "    '''\n",
    "    if a == b:\n",
    "        return True\n",
    "    else:\n",
    "        return False\n",
    "\n",
    "def equal_counter (game:list, previous_game:list) -> int:\n",
    "    '''\n",
    "    Returns the number of equal numbers between two games\n",
    "    '''\n",
    "    equal_count = 0\n",
    "    for i in range(0, len(game)):\n",
    "        for j in range(0, len(previous_game)):\n",
    "            if is_equal(game[i], previous_game[j]):\n",
    "                equal_count += 1\n",
    "    return equal_count"
   ]
  },
  {
   "cell_type": "code",
   "execution_count": 14,
   "metadata": {},
   "outputs": [
    {
     "name": "stdout",
     "output_type": "stream",
     "text": [
      "Quantidade de números repetidos em relação ao concurso anterior: \n",
      "Média: 8.96 \n",
      "Moda: 9 \n",
      "Desvio Padrão: 1.22 \n",
      "Máximo: 14 \n",
      "Mínimo: 5\n"
     ]
    }
   ],
   "source": [
    "# Criando array com quantidade de números repetidos do concurso atual em relação ao concurso anterior\n",
    "# OBS: Vamos desconsiderar o primeiro jogo da lista, já que não há concurso anterior à ele para comparar\n",
    "repeated_numbers = []\n",
    "\n",
    "for i in range(0, len(df_sorted)-1):\n",
    "    game = df_sorted.iloc[i, :].to_list()\n",
    "    previous_game = df_sorted.iloc[i-1, :].to_list()\n",
    "    repeated_numbers.append(equal_counter(game, previous_game))\n",
    "\n",
    "# Estatísticas\n",
    "print(\"Quantidade de números repetidos em relação ao concurso anterior: \\nMédia: {:.2f} \\nModa: {} \\nDesvio Padrão: {:.2f} \\nMáximo: {} \\nMínimo: {}\" .format(st.mean(repeated_numbers), st.mode(repeated_numbers), st.stdev(repeated_numbers), max(repeated_numbers), min(repeated_numbers)))\n"
   ]
  },
  {
   "cell_type": "markdown",
   "metadata": {},
   "source": [
    "# Estatísticas"
   ]
  },
  {
   "cell_type": "code",
   "execution_count": 15,
   "metadata": {},
   "outputs": [
    {
     "name": "stdout",
     "output_type": "stream",
     "text": [
      "A probabilidade de se ganhar na Lotofácil é de 1 em 3268760\n"
     ]
    }
   ],
   "source": [
    "def factorial(n:int) -> int:\n",
    "    '''\n",
    "    Returns the factorial of n\n",
    "    '''\n",
    "    if n == 0:\n",
    "        return 1\n",
    "    else:\n",
    "        return n * factorial(n-1)\n",
    "\n",
    "def combination (p:int, n:int) -> int:\n",
    "    '''\n",
    "    Returns the combination of n and p\n",
    "    '''\n",
    "    return factorial(n) / (factorial(p) * factorial(n-p))\n",
    "\n",
    "print(\"A probabilidade de se ganhar na Lotofácil é de 1 em {:.0f}\" .format((combination(15,25))))"
   ]
  },
  {
   "cell_type": "markdown",
   "metadata": {},
   "source": [
    "### Definindo Regras "
   ]
  },
  {
   "cell_type": "code",
   "execution_count": 16,
   "metadata": {},
   "outputs": [],
   "source": [
    "MIN_PRIME = 4\n",
    "MAX_PRIME = 7\n",
    "MIN_CONSECUTIVE = 3\n",
    "MAX_CONSECUTIVE = 5\n",
    "MIN_REPEATED = 7\n",
    "MAX_REPEATED = 10"
   ]
  },
  {
   "attachments": {},
   "cell_type": "markdown",
   "metadata": {},
   "source": [
    "### Pergunta do século: Em quanto se aumentan as chances com o uso da regra?"
   ]
  },
  {
   "cell_type": "code",
   "execution_count": 18,
   "metadata": {},
   "outputs": [],
   "source": [
    "def obey_the_rules(game:list, previous_game:list) -> bool:\n",
    "  '''\n",
    "  Returns True if the game obeys the rules, False otherwise\n",
    "  '''\n",
    "  primes = prime_counter(game)\n",
    "  consecutives = consecutive_counter(game)\n",
    "  repeateds = equal_counter(game, previous_game)\n",
    "  \n",
    "  if primes >= MIN_PRIME and primes <= MAX_PRIME and consecutives >= MIN_CONSECUTIVE and consecutives <= MAX_CONSECUTIVE and repeateds >= MIN_REPEATED and repeateds <= MAX_REPEATED:\n",
    "    return True\n",
    "  else:\n",
    "    return False"
   ]
  },
  {
   "cell_type": "code",
   "execution_count": 23,
   "metadata": {},
   "outputs": [
    {
     "name": "stdout",
     "output_type": "stream",
     "text": [
      "Quantidade de jogos que obedecem as regras: 1545/2683\n",
      "Percentual: 57.58%\n",
      "A probabilidade de se ganhar na Lotofácil é de 1 em 1882309\n"
     ]
    }
   ],
   "source": [
    "# Número de jogos que já foram sorteados\n",
    "n_games = len(df_sorted)\n",
    "\n",
    "# Quantos jogos do dataframe obedecem as regras?\n",
    "games = df_sorted.to_numpy()\n",
    "games = games.tolist()\n",
    "\n",
    "games_that_obey_the_rules = 0\n",
    "\n",
    "for i in range(0, len(games)):\n",
    "  if obey_the_rules(games[i], games[i-1]):\n",
    "    games_that_obey_the_rules += 1\n",
    "  \n",
    "print(\"Quantidade de jogos que obedecem as regras: {}/{}\" .format(games_that_obey_the_rules, n_games))\n",
    "\n",
    "print(\"Percentual: \" + str(round((games_that_obey_the_rules/len(games))*100, 2)) + \"%\")\n",
    "\n",
    "# Chances de ganhar na Lotofácil ao jogar com os números que obedecem as regras NÃO SEI SE ESSA PROBABILIDADE ESTÁ CORRETA\n",
    "print(\"A probabilidade de se ganhar na Lotofácil é de 1 em {:.0f}\" .format((combination(15,25)) * (games_that_obey_the_rules/len(games))))"
   ]
  },
  {
   "cell_type": "markdown",
   "metadata": {},
   "source": [
    "# Gerador "
   ]
  },
  {
   "cell_type": "code",
   "execution_count": 24,
   "metadata": {},
   "outputs": [],
   "source": [
    "# Perguntar ao usuário quantos números ele deseja apostar\n",
    "n = input(\"Quantos números você deseja apostar? (Mínimo: 15, Máximo: 20) \")\n",
    "\n",
    "while not n.isdigit() or int(n) < 15 or int(n) > 20:\n",
    "    n = input(\"Erro: Digite um número inteiro entre 15 e 20: \")\n",
    "\n",
    "extra_numbers = int(n) - 15"
   ]
  },
  {
   "cell_type": "code",
   "execution_count": 25,
   "metadata": {},
   "outputs": [],
   "source": [
    "import random\n",
    "\n",
    "def generate_15_numbers_game() -> list:\n",
    "  '''\n",
    "  Returns a random game with 15 numbers without repetitions\n",
    "  '''\n",
    "  game = []\n",
    "\n",
    "  while len(game) < 15:\n",
    "    number = random.randint(1, 25)\n",
    "    if number not in game:\n",
    "        game.append(number)\n",
    "  \n",
    "  game = sorted(game)\n",
    "  return game\n",
    "\n",
    "def add_extra_numbers(extra_numbers:int, game:list) -> list:\n",
    "  '''\n",
    "  Returns a game with extra numbers in case of the user wants to play with more than 15 numbers\n",
    "  '''\n",
    "  while len(game) < (15 + extra_numbers):\n",
    "    number = random.randint(1, 25)\n",
    "    if number not in game:\n",
    "        game.append(number)\n",
    "  \n",
    "  game = sorted(game)\n",
    "\n",
    "  return game"
   ]
  },
  {
   "cell_type": "code",
   "execution_count": 26,
   "metadata": {},
   "outputs": [
    {
     "name": "stdout",
     "output_type": "stream",
     "text": [
      "Gerando Jogo...\n",
      "Gerando jogo...\n",
      "[2, 3, 4, 5, 7, 8, 10, 12, 13, 16, 17, 18, 20, 23, 25]\n"
     ]
    }
   ],
   "source": [
    "print(\"Gerando Jogo...\")\n",
    "game = generate_15_numbers_game()\n",
    "previous_game = df_sorted.iloc[0, :].to_list()\n",
    "\n",
    "while not obey_the_rules(game, previous_game):\n",
    "  print(\"Gerando jogo...\")\n",
    "  game = generate_15_numbers_game()\n",
    "\n",
    "if extra_numbers > 0:\n",
    "  game = add_extra_numbers(extra_numbers, game)\n",
    "\n",
    "print(game)\n"
   ]
  }
 ],
 "metadata": {
  "kernelspec": {
   "display_name": "Python 3.10.2 64-bit",
   "language": "python",
   "name": "python3"
  },
  "language_info": {
   "codemirror_mode": {
    "name": "ipython",
    "version": 3
   },
   "file_extension": ".py",
   "mimetype": "text/x-python",
   "name": "python",
   "nbconvert_exporter": "python",
   "pygments_lexer": "ipython3",
   "version": "3.10.2"
  },
  "orig_nbformat": 4,
  "vscode": {
   "interpreter": {
    "hash": "6b6e3305c6d5e98d3597993ad9b000902b7736611cc00ab4cbc2007df81cff6b"
   }
  }
 },
 "nbformat": 4,
 "nbformat_minor": 2
}
